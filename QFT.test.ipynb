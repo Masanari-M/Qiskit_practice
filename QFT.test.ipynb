{
 "cells": [
  {
   "cell_type": "code",
   "execution_count": 8,
   "metadata": {
    "collapsed": false
   },
   "outputs": [
    {
     "data": {
      "image/png": "[encoded data removed]",
      "text/plain": [
       "<Figure size 185.453x117.056 with 1 Axes>"
      ]
     },
     "execution_count": 8,
     "metadata": {},
     "output_type": "execute_result"
    }
   ],
   "source": [
    "from qiskit.circuit import QuantumCircuit\n",
    "from qiskit.quantum_info import Statevector\n",
    "from qiskit.visualization import plot_bloch_multivector\n",
    "\n",
    "# 1つの量子ビットを持つ量子回路を作成\n",
    "circ = QuantumCircuit(1)\n",
    "\n",
    "# 量子ビット0にアダマールゲートを適用\n",
    "circ.h(0)\n",
    "\n",
    "# 量子回路の描画（matplotlibを使用）\n",
    "circ.draw('mpl')\n"
   ]
  },
  {
   "cell_type": "code",
   "execution_count": 9,
   "metadata": {
    "collapsed": false
   },
   "outputs": [
    {
     "name": "stdout",
     "output_type": "stream",
     "text": [
      "[<IBMBackend('ibm_brisbane')>, <IBMBackend('ibm_kyoto')>, <IBMBackend('ibm_osaka')>, <IBMBackend('ibm_sherbrooke')>]\n"
     ]
    }
   ],
   "source": [
    "from qiskit_ibm_runtime import QiskitRuntimeService\n",
    "\n",
    "# 認証情報を設定（以前に保存していない場合）\n",
    "service = QiskitRuntimeService()\n",
    "\n",
    "# 利用可能なバックエンドを取得\n",
    "backends = service.backends()\n",
    "print(backends)\n"
   ]
  },
  {
   "cell_type": "code",
   "execution_count": 12,
   "metadata": {
    "collapsed": false
   },
   "outputs": [
    {
     "name": "stdout",
     "output_type": "stream",
     "text": [
      "バックエンド: ibm_brisbane\n",
      "  稼働中: Yes\n",
      "  キューにあるジョブ数: 2825\n",
      "\n",
      "バックエンド: ibm_kyoto\n",
      "  稼働中: Yes\n",
      "  キューにあるジョブ数: 146\n",
      "\n",
      "バックエンド: ibm_osaka\n",
      "  稼働中: Yes\n",
      "  キューにあるジョブ数: 180\n",
      "\n",
      "バックエンド: ibm_sherbrooke\n",
      "  稼働中: Yes\n",
      "  キューにあるジョブ数: 4046\n",
      "\n"
     ]
    }
   ],
   "source": [
    "from qiskit_ibm_runtime import QiskitRuntimeService\n",
    "\n",
    "# 認証情報を設定（以前に保存していない場合）\n",
    "service = QiskitRuntimeService()\n",
    "\n",
    "# 利用可能なバックエンドを取得\n",
    "backends = service.backends()\n",
    "\n",
    "# 各バックエンドの状態とキューの情報を表示\n",
    "for backend in backends:\n",
    "    status = backend.status()\n",
    "    print(f\"バックエンド: {backend.name}\")\n",
    "    print(f\"  稼働中: {'Yes' if status.operational else 'No'}\")\n",
    "    print(f\"  キューにあるジョブ数: {status.pending_jobs}\\n\")\n"
   ]
  },
  {
   "cell_type": "code",
   "execution_count": 13,
   "metadata": {
    "collapsed": false
   },
   "outputs": [
    {
     "name": "stdout",
     "output_type": "stream",
     "text": [
      "     ┌───┐┌──────┐┌─┐            \n",
      "q_0: ┤ X ├┤0     ├┤M├────────────\n",
      "     └───┘│      │└╥┘┌─┐         \n",
      "q_1: ─────┤1     ├─╫─┤M├─────────\n",
      "     ┌───┐│      │ ║ └╥┘┌─┐      \n",
      "q_2: ┤ X ├┤2 qft ├─╫──╫─┤M├──────\n",
      "     └───┘│      │ ║  ║ └╥┘┌─┐   \n",
      "q_3: ─────┤3     ├─╫──╫──╫─┤M├───\n",
      "     ┌───┐│      │ ║  ║  ║ └╥┘┌─┐\n",
      "q_4: ┤ X ├┤4     ├─╫──╫──╫──╫─┤M├\n",
      "     └───┘└──────┘ ║  ║  ║  ║ └╥┘\n",
      "c: 5/══════════════╩══╩══╩══╩══╩═\n",
      "                   0  1  2  3  4 \n"
     ]
    },
    {
     "name": "stderr",
     "output_type": "stream",
     "text": [
      "/var/folders/pk/hpg1vttd2tx4f_3xjrwpc1yh0000gn/T/ipykernel_5852/2320714601.py:33: DeprecationWarning: The Sampler and Estimator V1 primitives have been deprecated as of qiskit-ibm-runtime 0.23.0 and will be removed no sooner than 3 months after the release date. Please use the V2 Primitives. See the `V2 migration guide <https://docs.quantum.ibm.com/api/migration-guides/v2-primitives>`_. for more details\n",
      "  job = Sampler(backend).run(transpiled_circuit, shots=1000)\n"
     ]
    },
    {
     "name": "stdout",
     "output_type": "stream",
     "text": [
      "job id: ctttakjseb10008x17x0\n",
      "\n",
      " QFT Output\n",
      "-------------\n"
     ]
    },
    {
     "ename": "AttributeError",
     "evalue": "'SamplerResult' object has no attribute 'get_counts'",
     "output_type": "error",
     "traceback": [
      "\u001b[0;31m---------------------------------------------------------------------------\u001b[0m",
      "\u001b[0;31mAttributeError\u001b[0m                            Traceback (most recent call last)",
      "Cell \u001b[0;32mIn[13], line 38\u001b[0m\n\u001b[1;32m     36\u001b[0m \u001b[38;5;28mprint\u001b[39m(\u001b[38;5;124m\"\u001b[39m\u001b[38;5;130;01m\\n\u001b[39;00m\u001b[38;5;124m QFT Output\u001b[39m\u001b[38;5;124m\"\u001b[39m)\n\u001b[1;32m     37\u001b[0m \u001b[38;5;28mprint\u001b[39m(\u001b[38;5;124m\"\u001b[39m\u001b[38;5;124m-------------\u001b[39m\u001b[38;5;124m\"\u001b[39m)\n\u001b[0;32m---> 38\u001b[0m \u001b[38;5;28mprint\u001b[39m(\u001b[43mresult\u001b[49m\u001b[38;5;241;43m.\u001b[39;49m\u001b[43mget_counts\u001b[49m())\n\u001b[1;32m     40\u001b[0m \u001b[38;5;66;03m# 逆QFTの追加\u001b[39;00m\n\u001b[1;32m     41\u001b[0m circuit \u001b[38;5;241m=\u001b[39m QuantumCircuit(q, c)\n",
      "\u001b[0;31mAttributeError\u001b[0m: 'SamplerResult' object has no attribute 'get_counts'"
     ]
    }
   ],
   "source": [
    "from qiskit import QuantumCircuit, QuantumRegister, ClassicalRegister, transpile\n",
    "from qiskit.circuit.library import QFT\n",
    "from qiskit_ibm_runtime import QiskitRuntimeService, Sampler\n",
    "import numpy as np\n",
    "\n",
    "# サービスの初期化\n",
    "service = QiskitRuntimeService()\n",
    "\n",
    "# 利用するバックエンドの指定\n",
    "backend_name = 'ibm_kyoto'  # 使用するバックエンド名に修正\n",
    "backend = service.backend(backend_name)\n",
    "\n",
    "# 量子回路の作成\n",
    "pi = np.pi\n",
    "q = QuantumRegister(5, 'q')\n",
    "c = ClassicalRegister(5, 'c')\n",
    "circuit = QuantumCircuit(q, c)\n",
    "circuit.x(q[4])\n",
    "circuit.x(q[2])\n",
    "circuit.x(q[0])\n",
    "\n",
    "# QFTの追加\n",
    "qft = QFT(num_qubits=5, approximation_degree=0, do_swaps=True, inverse=False, insert_barriers=False, name='qft')\n",
    "circuit.append(qft, qargs=q)\n",
    "circuit.measure(q, c)\n",
    "circuit.draw(output='mpl', filename='qft1.png')\n",
    "print(circuit)\n",
    "\n",
    "# 回路のトランスパイル\n",
    "transpiled_circuit = transpile(circuit, backend=backend)\n",
    "\n",
    "# 実行\n",
    "job = Sampler(backend).run(transpiled_circuit, shots=1000)\n",
    "print(f\"job id: {job.job_id()}\")\n",
    "result = job.result()\n",
    "print(\"\\n QFT Output\")\n",
    "print(\"-------------\")\n",
    "print(result.get_counts())\n",
    "\n",
    "# 逆QFTの追加\n",
    "circuit = QuantumCircuit(q, c)\n",
    "circuit.x(q[4])\n",
    "circuit.x(q[2])\n",
    "circuit.x(q[0])\n",
    "circuit.append(QFT(num_qubits=5, approximation_degree=0, do_swaps=True, inverse=False, insert_barriers=True, name='qft'), qargs=q)\n",
    "circuit.append(QFT(num_qubits=5, approximation_degree=0, do_swaps=True, inverse=True, insert_barriers=True, name='qft'), qargs=q)\n",
    "circuit.measure(q, c)\n",
    "circuit.draw(output='mpl', filename='qft2.png')\n",
    "print(circuit)\n",
    "\n",
    "# 回路のトランスパイル\n",
    "transpiled_circuit = transpile(circuit, backend=backend)\n",
    "\n",
    "# 実行\n",
    "job = Sampler(backend).run(transpiled_circuit, shots=1000)\n",
    "print(f\"job id: {job.job_id()}\")\n",
    "result = job.result()\n",
    "print(\"\\n QFT with inverse QFT Output\")\n",
    "print(\"------------------------------\")\n",
    "print(result.get_counts())\n"
   ]
  },
  {
   "cell_type": "code",
   "execution_count": 14,
   "metadata": {
    "collapsed": false
   },
   "outputs": [
    {
     "ename": "ImportError",
     "evalue": "cannot import name 'Aer' from 'qiskit' (/Users/miyamotomanari/.pyenv/versions/anaconda3-4.3.1/envs/new_qiskit_env/lib/python3.11/site-packages/qiskit/__init__.py)",
     "output_type": "error",
     "traceback": [
      "\u001b[0;31m---------------------------------------------------------------------------\u001b[0m",
      "\u001b[0;31mImportError\u001b[0m                               Traceback (most recent call last)",
      "Cell \u001b[0;32mIn[14], line 2\u001b[0m\n\u001b[1;32m      1\u001b[0m \u001b[38;5;28;01mfrom\u001b[39;00m \u001b[38;5;21;01mqiskit\u001b[39;00m \u001b[38;5;28;01mimport\u001b[39;00m QuantumCircuit, transpile\n\u001b[0;32m----> 2\u001b[0m \u001b[38;5;28;01mfrom\u001b[39;00m \u001b[38;5;21;01mqiskit\u001b[39;00m \u001b[38;5;28;01mimport\u001b[39;00m Aer\n\u001b[1;32m      3\u001b[0m \u001b[38;5;28;01mimport\u001b[39;00m \u001b[38;5;21;01mrandom\u001b[39;00m\n\u001b[1;32m      4\u001b[0m \u001b[38;5;28;01mimport\u001b[39;00m \u001b[38;5;21;01mtime\u001b[39;00m\n",
      "\u001b[0;31mImportError\u001b[0m: cannot import name 'Aer' from 'qiskit' (/Users/miyamotomanari/.pyenv/versions/anaconda3-4.3.1/envs/new_qiskit_env/lib/python3.11/site-packages/qiskit/__init__.py)"
     ]
    }
   ],
   "source": [
    "from qiskit import QuantumCircuit, transpile\n",
    "from qiskit import Aer\n",
    "import random\n",
    "import time"
   ]
  },
  {
   "cell_type": "code",
   "execution_count": null,
   "metadata": {
    "collapsed": true
   },
   "outputs": [],
   "source": []
  }
 ],
 "metadata": {
  "kernelspec": {
   "display_name": "QuantumC",
   "language": "python",
   "name": "new_qiskit_env"
  },
  "language_info": {
   "codemirror_mode": {
    "name": "ipython",
    "version": 3
   },
   "file_extension": ".py",
   "mimetype": "text/x-python",
   "name": "python",
   "nbconvert_exporter": "python",
   "pygments_lexer": "ipython3",
   "version": "3.11.9"
  }
 },
 "nbformat": 4,
 "nbformat_minor": 2
}
