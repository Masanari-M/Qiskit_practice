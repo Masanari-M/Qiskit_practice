{
 "cells": [
  {
   "cell_type": "code",
   "execution_count": 1,
   "metadata": {
    "collapsed": true
   },
   "outputs": [],
   "source": [
    "import qiskit\n",
    "from qiskit_aer import AerSimulator, Aer\n",
    "from qiskit.visualization import plot_histogram, plot_bloch_multivector\n",
    "import time\n",
    "from qiskit import ClassicalRegister, QuantumRegister\n",
    "from qiskit import QuantumCircuit, transpile\n",
    "from numpy import pi\n",
    "import numpy as np\n",
    "import matplotlib.pyplot as plt\n",
    "from qiskit_ibm_runtime import QiskitRuntimeService, IBMBackend, Sampler\n",
    "from qiskit.providers.jobstatus import JobStatus"
   ]
  },
  {
   "cell_type": "code",
   "execution_count": 23,
   "metadata": {
    "collapsed": false
   },
   "outputs": [],
   "source": [
    "#関数定義\n",
    "def qft_rotations(circuit, n):\n",
    "    \"\"\"Performs qft on the first n qubits in circuit (without swaps)\"\"\"\n",
    "    if n == 0:\n",
    "        return circuit\n",
    "    n -= 1\n",
    "    circuit.h(n)\n",
    "    for qubit in range(n):\n",
    "        circuit.cp(pi/2**(n-qubit), qubit, n)\n",
    "    # At the end of our function, we call the same function again on\n",
    "    # the next qubits (we reduced n by one earlier in the function)\n",
    "    qft_rotations(circuit, n)\n",
    "    circuit.name = \"QFT_rot\"\n",
    "\n",
    "def swap_registers(circuit, n):\n",
    "    for qubit in range(n//2):\n",
    "        circuit.swap(qubit, n-qubit-1)\n",
    "    return circuit\n",
    "\n",
    "def qft(circuit, n):\n",
    "    \"\"\"QFT on the first n qubits in circuit\"\"\"\n",
    "    qft_rotations(circuit, n)\n",
    "    swap_registers(circuit, n)\n",
    "    return circuit\n",
    "\n",
    "def inverse_qft(circuit, n):\n",
    "    \"\"\"Does the inverse QFT on the first n qubits in circuit\"\"\"\n",
    "    # First we create a QFT circuit of the correct size:\n",
    "    qft_circ = qft(QuantumCircuit(n), n)\n",
    "    # Then we take the inverse of this circuit\n",
    "    invqft_circ = qft_circ.inverse()\n",
    "    # And add it to the first n qubits in our existing circuit\n",
    "    circuit.append(invqft_circ, circuit.qubits[:n])\n",
    "    return circuit.decompose() # .decompose() allows us to see the individual gates\n",
    "\n",
    "def c_amod15(a, l):\n",
    "    \"\"\"mod 15による制御ゲート\"\"\"\n",
    "    if a == 2:\n",
    "        # 下の位を上に移すので、上の位から順にSWAPしていく\n",
    "        U.swap(3, 2)\n",
    "        U.swap(2, 1)\n",
    "        U.swap(1, 0)\n",
    "    elif a == 4:\n",
    "        # 「一つ飛ばし」のビットシフト\n",
    "        U.swap(3, 1)\n",
    "        U.swap(2, 0)\n",
    "    elif a == 8:\n",
    "        # 下から順\n",
    "        U.swap(1, 0)\n",
    "        U.swap(2, 1)\n",
    "        U.swap(3, 2)\n",
    "    if a not in [2, 4, 7, 8, 11, 13]:\n",
    "        raise ValueError(\"'a' must be 2, 4, 7, 8, 11, or 13\")\n",
    "\n",
    "    U = QuantumCircuit(4)\n",
    "\n",
    "    if a == 2:\n",
    "        # 下の位を上に移すので、上の位から順にSWAPしていく\n",
    "        U.swap(3, 2)\n",
    "        U.swap(2, 1)\n",
    "        U.swap(1, 0)\n",
    "    elif a == 4:\n",
    "        # 「一つ飛ばし」のビットシフト\n",
    "        U.swap(3, 1)\n",
    "        U.swap(2, 0)\n",
    "    elif a == 8:\n",
    "        # 下から順\n",
    "        U.swap(1, 0)\n",
    "        U.swap(2, 1)\n",
    "        U.swap(3, 2)\n",
    "            \n",
    "    if a in [2, 13]:\n",
    "        # 下の位を上に移すので、上の位から順にSWAPしていく\n",
    "        U.swap(3, 2)\n",
    "        U.swap(2, 1)\n",
    "        U.swap(1, 0)\n",
    "    elif a in [4, 11]:\n",
    "        # 「一つ飛ばし」のビットシフト\n",
    "        U.swap(3, 1)\n",
    "        U.swap(2, 0)\n",
    "    elif a in [8, 7]:\n",
    "        # 下から順\n",
    "        U.swap(1, 0)\n",
    "        U.swap(2, 1)\n",
    "        U.swap(3, 2)\n",
    "\n",
    "    if a in [7, 11, 13]:\n",
    "        U.x([0, 1, 2, 3])\n",
    "\n",
    "\n",
    "    # Uを2^l回繰り返す\n",
    "    U_power = U.repeat(2 ** l)\n",
    "\n",
    "    # U_powerをゲートに変換\n",
    "    gate = U_power.to_gate()\n",
    "    gate.name = f\"{a}^{2 ** l} mod 15\"\n",
    "\n",
    "    # gateを制御ゲートに変換\n",
    "    c_gate = gate.control()\n",
    "    return c_gate\n",
    "\n"
   ]
  },
  {
   "cell_type": "code",
   "execution_count": 24,
   "metadata": {
    "collapsed": true
   },
   "outputs": [],
   "source": [
    "def qft_dagger(qreg):\n",
    "    \"\"\"逆量子フーリエ変換用の回路\"\"\"\n",
    "    qc = QuantumCircuit(qreg)\n",
    "\n",
    "    for j in range(qreg.size // 2):\n",
    "        qc.swap(qreg[j], qreg[-1 - j])\n",
    "\n",
    "    for itarg in range(qreg.size):\n",
    "        for ictrl in range(itarg):\n",
    "            power = ictrl - itarg - 1\n",
    "            qc.cp(-2. * np.pi * (2 ** power), ictrl, itarg)\n",
    "\n",
    "        qc.h(itarg)\n",
    "\n",
    "    qc.name = \"QFT^dagger\"\n",
    "    return qc"
   ]
  },
  {
   "cell_type": "code",
   "execution_count": 25,
   "metadata": {
    "collapsed": false
   },
   "outputs": [
    {
     "ename": "UnboundLocalError",
     "evalue": "cannot access local variable 'U' where it is not associated with a value",
     "output_type": "error",
     "traceback": [
      "\u001b[0;31m---------------------------------------------------------------------------\u001b[0m",
      "\u001b[0;31mUnboundLocalError\u001b[0m                         Traceback (most recent call last)",
      "Cell \u001b[0;32mIn[25], line 22\u001b[0m\n\u001b[1;32m     20\u001b[0m \u001b[38;5;66;03m# 制御Uゲートを適用\u001b[39;00m\n\u001b[1;32m     21\u001b[0m \u001b[38;5;28;01mfor\u001b[39;00m l, ctrl \u001b[38;5;129;01min\u001b[39;00m \u001b[38;5;28menumerate\u001b[39m(qreg_meas):\n\u001b[0;32m---> 22\u001b[0m     qc\u001b[38;5;241m.\u001b[39mappend(\u001b[43mc_amod15\u001b[49m\u001b[43m(\u001b[49m\u001b[43ma\u001b[49m\u001b[43m,\u001b[49m\u001b[43m \u001b[49m\u001b[43ml\u001b[49m\u001b[43m)\u001b[49m, qargs\u001b[38;5;241m=\u001b[39m([ctrl] \u001b[38;5;241m+\u001b[39m qreg_aux[:]))\n\u001b[1;32m     24\u001b[0m \u001b[38;5;66;03m# 逆QFTを適用\u001b[39;00m\n\u001b[1;32m     25\u001b[0m qc\u001b[38;5;241m.\u001b[39mappend(qft_dagger(qreg_meas), qargs\u001b[38;5;241m=\u001b[39mqreg_meas)\n",
      "Cell \u001b[0;32mIn[23], line 45\u001b[0m, in \u001b[0;36mc_amod15\u001b[0;34m(a, l)\u001b[0m\n\u001b[1;32m     42\u001b[0m     U\u001b[38;5;241m.\u001b[39mswap(\u001b[38;5;241m1\u001b[39m, \u001b[38;5;241m0\u001b[39m)\n\u001b[1;32m     43\u001b[0m \u001b[38;5;28;01melif\u001b[39;00m a \u001b[38;5;241m==\u001b[39m \u001b[38;5;241m4\u001b[39m:\n\u001b[1;32m     44\u001b[0m     \u001b[38;5;66;03m# 「一つ飛ばし」のビットシフト\u001b[39;00m\n\u001b[0;32m---> 45\u001b[0m     \u001b[43mU\u001b[49m\u001b[38;5;241m.\u001b[39mswap(\u001b[38;5;241m3\u001b[39m, \u001b[38;5;241m1\u001b[39m)\n\u001b[1;32m     46\u001b[0m     U\u001b[38;5;241m.\u001b[39mswap(\u001b[38;5;241m2\u001b[39m, \u001b[38;5;241m0\u001b[39m)\n\u001b[1;32m     47\u001b[0m \u001b[38;5;28;01melif\u001b[39;00m a \u001b[38;5;241m==\u001b[39m \u001b[38;5;241m8\u001b[39m:\n\u001b[1;32m     48\u001b[0m     \u001b[38;5;66;03m# 下から順\u001b[39;00m\n",
      "\u001b[0;31mUnboundLocalError\u001b[0m: cannot access local variable 'U' where it is not associated with a value"
     ]
    }
   ],
   "source": [
    "# 15と互いに素な数\n",
    "a = 4\n",
    "\n",
    "# 測定用ビットの数（位相推定の精度）\n",
    "n_meas = 8\n",
    "\n",
    "# 位相測定用のレジスタ\n",
    "qreg_meas = QuantumRegister(n_meas, name='meas')\n",
    "# Uを作用させる作業用レジスタ\n",
    "qreg_aux = QuantumRegister(4, name='aux')\n",
    "# 位相測定の結果が書き出される古典レジスタ\n",
    "creg_meas = ClassicalRegister(n_meas, name='out')\n",
    "\n",
    "# 2つの量子レジスタと1つの古典レジスタから量子回路を作る\n",
    "qc = QuantumCircuit(qreg_meas, qreg_aux, creg_meas)\n",
    "# 測定用レジスタ全てにHadamard変換\n",
    "qc.h(qreg_meas)\n",
    "# 作業用レジスタにPauliX\n",
    "qc.x(qreg_aux[0])\n",
    "# 制御Uゲートを適用\n",
    "for l, ctrl in enumerate(qreg_meas):\n",
    "    qc.append(c_amod15(a, l), qargs=([ctrl] + qreg_aux[:]))\n",
    "\n",
    "# 逆QFTを適用\n",
    "qc.append(qft_dagger(qreg_meas), qargs=qreg_meas)\n",
    "    \n",
    "\n",
    "    \n",
    "# 回路を測定\n",
    "qc.measure(qreg_meas, creg_meas)\n",
    "qc.draw('mpl')"
   ]
  },
  {
   "cell_type": "code",
   "execution_count": 26,
   "metadata": {
    "collapsed": false
   },
   "outputs": [
    {
     "ename": "ValueError",
     "evalue": "The 0-th circuit does not have Measure instruction. Without measurements, the circuit cannot be sampled from.",
     "output_type": "error",
     "traceback": [
      "\u001b[0;31m---------------------------------------------------------------------------\u001b[0m",
      "\u001b[0;31mValueError\u001b[0m                                Traceback (most recent call last)",
      "Cell \u001b[0;32mIn[26], line 8\u001b[0m\n\u001b[1;32m      5\u001b[0m sampler \u001b[38;5;241m=\u001b[39m Sampler()\n\u001b[1;32m      7\u001b[0m \u001b[38;5;66;03m# Now run the job and examine the results\u001b[39;00m\n\u001b[0;32m----> 8\u001b[0m sampler_job \u001b[38;5;241m=\u001b[39m \u001b[43msampler\u001b[49m\u001b[38;5;241;43m.\u001b[39;49m\u001b[43mrun\u001b[49m\u001b[43m(\u001b[49m\u001b[43mqc\u001b[49m\u001b[43m)\u001b[49m\n\u001b[1;32m      9\u001b[0m answer \u001b[38;5;241m=\u001b[39m sampler_job\u001b[38;5;241m.\u001b[39mresult()\u001b[38;5;241m.\u001b[39mquasi_dists[\u001b[38;5;241m0\u001b[39m]\n\u001b[1;32m     11\u001b[0m \u001b[38;5;28;01mfrom\u001b[39;00m \u001b[38;5;21;01mqiskit\u001b[39;00m\u001b[38;5;21;01m.\u001b[39;00m\u001b[38;5;21;01mvisualization\u001b[39;00m \u001b[38;5;28;01mimport\u001b[39;00m plot_distribution\n",
      "File \u001b[0;32m~/.pyenv/versions/anaconda3-4.3.1/envs/new_qiskit_env/lib/python3.11/site-packages/qiskit/primitives/base/base_sampler.py:131\u001b[0m, in \u001b[0;36mBaseSamplerV1.run\u001b[0;34m(self, circuits, parameter_values, **run_options)\u001b[0m\n\u001b[1;32m    116\u001b[0m \u001b[38;5;250m\u001b[39m\u001b[38;5;124;03m\"\"\"Run the job of the sampling of bitstrings.\u001b[39;00m\n\u001b[1;32m    117\u001b[0m \n\u001b[1;32m    118\u001b[0m \u001b[38;5;124;03mArgs:\u001b[39;00m\n\u001b[0;32m   (...)\u001b[0m\n\u001b[1;32m    128\u001b[0m \u001b[38;5;124;03m    ValueError: Invalid arguments are given.\u001b[39;00m\n\u001b[1;32m    129\u001b[0m \u001b[38;5;124;03m\"\"\"\u001b[39;00m\n\u001b[1;32m    130\u001b[0m \u001b[38;5;66;03m# Validation\u001b[39;00m\n\u001b[0;32m--> 131\u001b[0m circuits, parameter_values \u001b[38;5;241m=\u001b[39m \u001b[43mvalidation\u001b[49m\u001b[38;5;241;43m.\u001b[39;49m\u001b[43m_validate_sampler_args\u001b[49m\u001b[43m(\u001b[49m\u001b[43mcircuits\u001b[49m\u001b[43m,\u001b[49m\u001b[43m \u001b[49m\u001b[43mparameter_values\u001b[49m\u001b[43m)\u001b[49m\n\u001b[1;32m    133\u001b[0m \u001b[38;5;66;03m# Options\u001b[39;00m\n\u001b[1;32m    134\u001b[0m run_opts \u001b[38;5;241m=\u001b[39m copy(\u001b[38;5;28mself\u001b[39m\u001b[38;5;241m.\u001b[39moptions)\n",
      "File \u001b[0;32m~/.pyenv/versions/anaconda3-4.3.1/envs/new_qiskit_env/lib/python3.11/site-packages/qiskit/primitives/base/validation.py:87\u001b[0m, in \u001b[0;36m_validate_sampler_args\u001b[0;34m(circuits, parameter_values)\u001b[0m\n\u001b[1;32m     73\u001b[0m \u001b[38;5;250m\u001b[39m\u001b[38;5;124;03m\"\"\"Validate run arguments for a reference Sampler.\u001b[39;00m\n\u001b[1;32m     74\u001b[0m \n\u001b[1;32m     75\u001b[0m \u001b[38;5;124;03mArgs:\u001b[39;00m\n\u001b[0;32m   (...)\u001b[0m\n\u001b[1;32m     84\u001b[0m \u001b[38;5;124;03m    ValueError: if input arguments are invalid values.\u001b[39;00m\n\u001b[1;32m     85\u001b[0m \u001b[38;5;124;03m\"\"\"\u001b[39;00m\n\u001b[1;32m     86\u001b[0m \u001b[38;5;66;03m# Singular validation\u001b[39;00m\n\u001b[0;32m---> 87\u001b[0m circuits \u001b[38;5;241m=\u001b[39m \u001b[43m_validate_circuits\u001b[49m\u001b[43m(\u001b[49m\u001b[43mcircuits\u001b[49m\u001b[43m,\u001b[49m\u001b[43m \u001b[49m\u001b[43mrequires_measure\u001b[49m\u001b[38;5;241;43m=\u001b[39;49m\u001b[38;5;28;43;01mTrue\u001b[39;49;00m\u001b[43m)\u001b[49m\n\u001b[1;32m     88\u001b[0m parameter_values \u001b[38;5;241m=\u001b[39m _validate_parameter_values(\n\u001b[1;32m     89\u001b[0m     parameter_values,\n\u001b[1;32m     90\u001b[0m     default\u001b[38;5;241m=\u001b[39m[()] \u001b[38;5;241m*\u001b[39m \u001b[38;5;28mlen\u001b[39m(circuits),\n\u001b[1;32m     91\u001b[0m )\n\u001b[1;32m     93\u001b[0m \u001b[38;5;66;03m# Cross-validation\u001b[39;00m\n",
      "File \u001b[0;32m~/.pyenv/versions/anaconda3-4.3.1/envs/new_qiskit_env/lib/python3.11/site-packages/qiskit/primitives/base/validation.py:123\u001b[0m, in \u001b[0;36m_validate_circuits\u001b[0;34m(circuits, requires_measure)\u001b[0m\n\u001b[1;32m    117\u001b[0m             \u001b[38;5;28;01mraise\u001b[39;00m \u001b[38;5;167;01mValueError\u001b[39;00m(\n\u001b[1;32m    118\u001b[0m                 \u001b[38;5;124mf\u001b[39m\u001b[38;5;124m\"\u001b[39m\u001b[38;5;124mThe \u001b[39m\u001b[38;5;132;01m{\u001b[39;00mi\u001b[38;5;132;01m}\u001b[39;00m\u001b[38;5;124m-th circuit does not have any classical bit. \u001b[39m\u001b[38;5;124m\"\u001b[39m\n\u001b[1;32m    119\u001b[0m                 \u001b[38;5;124m\"\u001b[39m\u001b[38;5;124mSampler requires classical bits, plus measurements \u001b[39m\u001b[38;5;124m\"\u001b[39m\n\u001b[1;32m    120\u001b[0m                 \u001b[38;5;124m\"\u001b[39m\u001b[38;5;124mon the desired qubits.\u001b[39m\u001b[38;5;124m\"\u001b[39m\n\u001b[1;32m    121\u001b[0m             )\n\u001b[1;32m    122\u001b[0m         \u001b[38;5;28;01mif\u001b[39;00m \u001b[38;5;129;01mnot\u001b[39;00m _has_measure(circuit):\n\u001b[0;32m--> 123\u001b[0m             \u001b[38;5;28;01mraise\u001b[39;00m \u001b[38;5;167;01mValueError\u001b[39;00m(\n\u001b[1;32m    124\u001b[0m                 \u001b[38;5;124mf\u001b[39m\u001b[38;5;124m\"\u001b[39m\u001b[38;5;124mThe \u001b[39m\u001b[38;5;132;01m{\u001b[39;00mi\u001b[38;5;132;01m}\u001b[39;00m\u001b[38;5;124m-th circuit does not have Measure instruction. \u001b[39m\u001b[38;5;124m\"\u001b[39m\n\u001b[1;32m    125\u001b[0m                 \u001b[38;5;124m\"\u001b[39m\u001b[38;5;124mWithout measurements, the circuit cannot be sampled from.\u001b[39m\u001b[38;5;124m\"\u001b[39m\n\u001b[1;32m    126\u001b[0m             )\n\u001b[1;32m    127\u001b[0m \u001b[38;5;28;01mreturn\u001b[39;00m circuits\n",
      "\u001b[0;31mValueError\u001b[0m: The 0-th circuit does not have Measure instruction. Without measurements, the circuit cannot be sampled from."
     ]
    }
   ],
   "source": [
    "shots = 10000\n",
    "\n",
    "# Instantiate a new Sampler object\n",
    "from qiskit.primitives import Sampler\n",
    "sampler = Sampler()\n",
    "\n",
    "# Now run the job and examine the results\n",
    "sampler_job = sampler.run(qc)\n",
    "answer = sampler_job.result().quasi_dists[0]\n",
    "\n",
    "from qiskit.visualization import plot_distribution\n",
    "\n",
    "plot_distribution(answer)"
   ]
  },
  {
   "cell_type": "code",
   "execution_count": 21,
   "metadata": {
    "collapsed": false
   },
   "outputs": [
    {
     "name": "stdout",
     "output_type": "stream",
     "text": [
      "     Phase   Fraction   Guess for r\n",
      "-------------------------------------\n",
      "     0.000       0/ 1             1\n"
     ]
    }
   ],
   "source": [
    "rows, measured_phases = [], []\n",
    "for output in answer:\n",
    "    phase = output / (2 ** n_meas)\n",
    "    measured_phases.append(phase)\n",
    "    # これらの値をテーブルの行に追加：\n",
    "    rows.append(f\"{output:3d}      {output:3d}/{2 ** n_meas} = {phase:.3f}\")\n",
    "from fractions import Fraction\n",
    "rows = []\n",
    "for phase in measured_phases:\n",
    "    frac = Fraction(phase).limit_denominator(15)\n",
    "    rows.append(f'{phase:10.3f}      {frac.numerator:2d}/{frac.denominator:2d} {frac.denominator:13d}')\n",
    "\n",
    "# 結果を表示\n",
    "print('     Phase   Fraction   Guess for r')\n",
    "print('-------------------------------------')\n",
    "\n",
    "for row in rows:\n",
    "    print(row)"
   ]
  },
  {
   "cell_type": "code",
   "execution_count": 22,
   "metadata": {
    "collapsed": false
   },
   "outputs": [
    {
     "name": "stdout",
     "output_type": "stream",
     "text": [
      "     Phase   Fraction   Guess for r\n",
      "-------------------------------------\n",
      "     0.000       0/ 1             1\n"
     ]
    }
   ],
   "source": [
    "from fractions import Fraction\n",
    "rows = []\n",
    "for phase in measured_phases:\n",
    "    frac = Fraction(phase).limit_denominator(15)\n",
    "    rows.append(f'{phase:10.3f}      {frac.numerator:2d}/{frac.denominator:2d} {frac.denominator:13d}')\n",
    "\n",
    "# 結果を表示\n",
    "print('     Phase   Fraction   Guess for r')\n",
    "print('-------------------------------------')\n",
    "\n",
    "for row in rows:\n",
    "    print(row)"
   ]
  },
  {
   "cell_type": "code",
   "execution_count": null,
   "metadata": {
    "collapsed": true
   },
   "outputs": [],
   "source": []
  },
  {
   "cell_type": "code",
   "execution_count": null,
   "metadata": {
    "collapsed": true
   },
   "outputs": [],
   "source": []
  }
 ],
 "metadata": {
  "kernelspec": {
   "display_name": "QuantumC",
   "language": "python",
   "name": "new_qiskit_env"
  },
  "language_info": {
   "codemirror_mode": {
    "name": "ipython",
    "version": 3
   },
   "file_extension": ".py",
   "mimetype": "text/x-python",
   "name": "python",
   "nbconvert_exporter": "python",
   "pygments_lexer": "ipython3",
   "version": "3.11.9"
  }
 },
 "nbformat": 4,
 "nbformat_minor": 2
}
